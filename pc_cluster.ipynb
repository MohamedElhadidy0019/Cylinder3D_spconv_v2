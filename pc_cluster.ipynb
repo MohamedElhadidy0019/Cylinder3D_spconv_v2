{
 "cells": [
  {
   "cell_type": "code",
   "execution_count": 1,
   "metadata": {},
   "outputs": [
    {
     "name": "stdout",
     "output_type": "stream",
     "text": [
      "Jupyter environment detected. Enabling Open3D WebVisualizer.\n",
      "[Open3D INFO] WebRTC GUI backend enabled.\n",
      "[Open3D INFO] WebRTCWindowSystem: HTTP handshake server disabled.\n"
     ]
    }
   ],
   "source": [
    "import numpy as np\n",
    "# import pcl\n",
    "import open3d as o3d\n",
    "# plt\n"
   ]
  },
  {
   "cell_type": "code",
   "execution_count": null,
   "metadata": {},
   "outputs": [],
   "source": [
    "import matplotlib.pyplot as plt\n",
    "\n"
   ]
  },
  {
   "cell_type": "code",
   "execution_count": 2,
   "metadata": {},
   "outputs": [],
   "source": [
    "a=np.array([[1,2,3],[4,5,6],[7,8,9]])\n"
   ]
  },
  {
   "cell_type": "code",
   "execution_count": 6,
   "metadata": {},
   "outputs": [
    {
     "data": {
      "text/plain": [
       "array([[1, 3],\n",
       "       [4, 6],\n",
       "       [7, 9]])"
      ]
     },
     "execution_count": 6,
     "metadata": {},
     "output_type": "execute_result"
    }
   ],
   "source": [
    "b=a[:,(0,2)]\n",
    "b"
   ]
  },
  {
   "cell_type": "code",
   "execution_count": 2,
   "metadata": {},
   "outputs": [
    {
     "name": "stdout",
     "output_type": "stream",
     "text": [
      "(2302, 3)\n"
     ]
    }
   ],
   "source": [
    "bin_pcd = np.fromfile(\"/home/mnabail/repos/Cylinder3D_spconv_v2/car_only_points/000000.bin\", dtype=np.float32)\n",
    "points = bin_pcd.reshape((-1, 3))[:, 0:3]\n",
    "print(points.shape)\n",
    "o3d_pcd = o3d.geometry.PointCloud(o3d.utility.Vector3dVector(points))\n",
    "o3d.io.write_point_cloud(\"/home/mnabail/repos/Cylinder3D_spconv_v2/car_only_points/pointcloud.pcd\", o3d_pcd)\n",
    "cloud = pcl.load('/home/mnabail/repos/Cylinder3D_spconv_v2/car_only_points/pointcloud.pcd')\n"
   ]
  },
  {
   "cell_type": "code",
   "execution_count": 4,
   "metadata": {},
   "outputs": [
    {
     "name": "stderr",
     "output_type": "stream",
     "text": [
      "[pcl::VoxelGrid::applyFilter] Leaf size is too small for the input dataset. Integer indices would overflow."
     ]
    }
   ],
   "source": [
    "vg = cloud.make_voxel_grid_filter()\n",
    "vg.set_leaf_size(0.01, 0.01, 0.01)\n",
    "cloud_filtered = vg.filter()\n"
   ]
  },
  {
   "cell_type": "code",
   "execution_count": 5,
   "metadata": {},
   "outputs": [],
   "source": [
    "seg = cloud.make_segmenter()\n",
    "seg.set_optimize_coefficients(True)\n",
    "seg.set_model_type(pcl.SACMODEL_PLANE)\n",
    "seg.set_method_type(pcl.SAC_RANSAC)\n",
    "seg.set_MaxIterations(100)\n",
    "seg.set_distance_threshold(0.02)\n"
   ]
  },
  {
   "cell_type": "code",
   "execution_count": 6,
   "metadata": {},
   "outputs": [],
   "source": [
    "i = 0\n",
    "nr_points = cloud_filtered.size"
   ]
  },
  {
   "cell_type": "code",
   "execution_count": 7,
   "metadata": {},
   "outputs": [],
   "source": [
    "tree = cloud_filtered.make_kdtree()\n"
   ]
  },
  {
   "cell_type": "code",
   "execution_count": 8,
   "metadata": {},
   "outputs": [
    {
     "name": "stdout",
     "output_type": "stream",
     "text": [
      "cluster_indices : <built-in method count of list object at 0x7f4f65c3b3c0> count.\n"
     ]
    }
   ],
   "source": [
    "ec = cloud_filtered.make_EuclideanClusterExtraction()\n",
    "ec.set_ClusterTolerance(0.02)\n",
    "ec.set_MinClusterSize(100)\n",
    "ec.set_MaxClusterSize(25000)\n",
    "ec.set_SearchMethod(tree)\n",
    "cluster_indices = ec.Extract()\n",
    "\n",
    "print('cluster_indices : ' + str(cluster_indices.count) + \" count.\")"
   ]
  },
  {
   "cell_type": "code",
   "execution_count": 9,
   "metadata": {},
   "outputs": [
    {
     "name": "stdout",
     "output_type": "stream",
     "text": [
      "indices = 403\n",
      "indices = 255\n",
      "indices = 241\n",
      "indices = 194\n"
     ]
    }
   ],
   "source": [
    "cloud_cluster = pcl.PointCloud()\n",
    "\n",
    "for j, indices in enumerate(cluster_indices):\n",
    "    # cloudsize = indices\n",
    "    print('indices = ' + str(len(indices)))\n",
    "    # cloudsize = len(indices)\n",
    "    points = np.zeros((len(indices), 3), dtype=np.float32)\n",
    "    # points = np.zeros((cloudsize, 3), dtype=np.float32)\n",
    "\n",
    "    # for indice in range(len(indices)):\n",
    "    for i, indice in enumerate(indices):\n",
    "        # print('dataNum = ' + str(i) + ', data point[x y z]: ' + str(cloud_filtered[indice][0]) + ' ' + str(cloud_filtered[indice][1]) + ' ' + str(cloud_filtered[indice][2]))\n",
    "        # print('PointCloud representing the Cluster: ' + str(cloud_cluster.size) + \" data points.\")\n",
    "        points[i][0] = cloud_filtered[indice][0]\n",
    "        points[i][1] = cloud_filtered[indice][1]\n",
    "        points[i][2] = cloud_filtered[indice][2]\n",
    "\n",
    "    cloud_cluster.from_array(points)\n",
    "    ss = \"cloud_cluster_\" + str(j) + \".pcd\"\n",
    "    pcl.save(cloud_cluster, ss)\n"
   ]
  },
  {
   "cell_type": "code",
   "execution_count": null,
   "metadata": {},
   "outputs": [
    {
     "ename": "",
     "evalue": "",
     "output_type": "error",
     "traceback": [
      "\u001b[1;31mThe Kernel crashed while executing code in the the current cell or a previous cell. Please review the code in the cell(s) to identify a possible cause of the failure. Click <a href='https://aka.ms/vscodeJupyterKernelCrash'>here</a> for more info. View Jupyter <a href='command:jupyter.viewOutput'>log</a> for further details."
     ]
    },
    {
     "ename": "",
     "evalue": "",
     "output_type": "error",
     "traceback": [
      "\u001b[1;31mCanceled future for execute_request message before replies were done"
     ]
    }
   ],
   "source": [
    "# pcd = o3d.io.read_point_cloud(\"../../test_data/fragment.ply\")\n",
    "pcd = o3d_pcd\n",
    "with o3d.utility.VerbosityContextManager(\n",
    "        o3d.utility.VerbosityLevel.Debug) as cm:\n",
    "    labels = np.array(\n",
    "        pcd.cluster_dbscan(eps=0.02, min_points=10, print_progress=True))\n",
    "\n",
    "max_label = labels.max()\n",
    "print(f\"point cloud has {max_label + 1} clusters\")\n",
    "colors = plt.get_cmap(\"tab20\")(labels / (max_label if max_label > 0 else 1))\n",
    "colors[labels < 0] = 0\n",
    "pcd.colors = o3d.utility.Vector3dVector(colors[:, :3])\n",
    "o3d.visualization.draw_geometries([pcd],\n",
    "                                  zoom=0.455,\n",
    "                                  front=[-0.4999, -0.1659, -0.8499],\n",
    "                                  lookat=[2.1813, 2.0619, 2.0999],\n",
    "                                  up=[0.1204, -0.9852, 0.1215])"
   ]
  },
  {
   "cell_type": "code",
   "execution_count": null,
   "metadata": {},
   "outputs": [],
   "source": []
  },
  {
   "cell_type": "code",
   "execution_count": null,
   "metadata": {},
   "outputs": [],
   "source": []
  },
  {
   "cell_type": "code",
   "execution_count": 3,
   "metadata": {},
   "outputs": [],
   "source": [
    "\n",
    "pcd = o3d_pcd\n",
    "plane_model, inliers = pcd.segment_plane(distance_threshold=0.05, ransac_n=1000, num_iterations=1000)\n",
    "inlier_cloud = pcd.select_by_index(inliers)\n",
    "outlier_cloud = pcd.select_by_index(inliers, invert=True)\n"
   ]
  },
  {
   "cell_type": "code",
   "execution_count": 4,
   "metadata": {},
   "outputs": [],
   "source": [
    "inlier_cloud.paint_uniform_color([1, 0, 0])\n",
    "o3d.visualization.draw_geometries([ outlier_cloud])"
   ]
  },
  {
   "cell_type": "code",
   "execution_count": null,
   "metadata": {},
   "outputs": [
    {
     "ename": "",
     "evalue": "",
     "output_type": "error",
     "traceback": [
      "\u001b[1;31mThe Kernel crashed while executing code in the the current cell or a previous cell. Please review the code in the cell(s) to identify a possible cause of the failure. Click <a href='https://aka.ms/vscodeJupyterKernelCrash'>here</a> for more info. View Jupyter <a href='command:jupyter.viewOutput'>log</a> for further details."
     ]
    },
    {
     "ename": "",
     "evalue": "",
     "output_type": "error",
     "traceback": [
      "\u001b[1;31mCanceled future for execute_request message before replies were done"
     ]
    }
   ],
   "source": [
    "labels = np.array(outlier_cloud.cluster_dbscan(eps=0.05, min_points=5))\n",
    "max_label = labels.max()\n",
    "#colors = plt.get_cmap(\"tab20\")(labels / (max_label if max_label > 0 else 1))\n",
    "#colors[labels < 0] = 0"
   ]
  },
  {
   "cell_type": "code",
   "execution_count": null,
   "metadata": {},
   "outputs": [],
   "source": [
    "inlier_cloud.colors = o3d.utility.Vector3dVector(colors[:, :3])\n",
    "colors = plt.get_cmap(\"tab10\")(labels / (max_label if max_label > 0 else 1))\n",
    "colors[labels < 0] = 0\n",
    "o3d.visualization.draw_geometries([outlier_cloud])"
   ]
  },
  {
   "cell_type": "code",
   "execution_count": 41,
   "metadata": {},
   "outputs": [],
   "source": [
    "import numpy as np\n",
    "import pcl\n",
    "import open3d as o3d\n",
    "# plt\"\n",
    "import matplotlib.pyplot as plt\n"
   ]
  },
  {
   "cell_type": "code",
   "execution_count": 42,
   "metadata": {},
   "outputs": [],
   "source": [
    "\n",
    "bin_pcd = np.fromfile(\"/home/mnabail/repos/Cylinder3D_spconv_v2/car_only_points/000000.bin\", dtype=np.float32)\n",
    "points = bin_pcd.reshape((-1, 3))[:, 0:3]"
   ]
  },
  {
   "cell_type": "code",
   "execution_count": 39,
   "metadata": {},
   "outputs": [
    {
     "data": {
      "text/plain": [
       "Counter({0: 7,\n",
       "         1: 3,\n",
       "         2: 394,\n",
       "         3: 19,\n",
       "         4: 2,\n",
       "         5: 1,\n",
       "         6: 1,\n",
       "         7: 2,\n",
       "         8: 7,\n",
       "         9: 4,\n",
       "         10: 1,\n",
       "         11: 3,\n",
       "         12: 4,\n",
       "         13: 1,\n",
       "         14: 1,\n",
       "         15: 4,\n",
       "         16: 9,\n",
       "         17: 5,\n",
       "         18: 6,\n",
       "         19: 1,\n",
       "         20: 2,\n",
       "         21: 1,\n",
       "         22: 1,\n",
       "         23: 2,\n",
       "         24: 1,\n",
       "         25: 1,\n",
       "         26: 3,\n",
       "         27: 1,\n",
       "         28: 1,\n",
       "         29: 1,\n",
       "         30: 1,\n",
       "         31: 1,\n",
       "         32: 1,\n",
       "         33: 1,\n",
       "         34: 1,\n",
       "         35: 1,\n",
       "         36: 1,\n",
       "         37: 1,\n",
       "         38: 1,\n",
       "         39: 1,\n",
       "         40: 1})"
      ]
     },
     "execution_count": 39,
     "metadata": {},
     "output_type": "execute_result"
    }
   ],
   "source": [
    "from sklearn.cluster import DBSCAN\n",
    "import numpy as np\n",
    "data = np.random.rand(500,3)\n",
    "\n",
    "db = DBSCAN(eps=0.12, min_samples=1).fit(data)\n",
    "labels = db.labels_\n",
    "from collections import Counter\n",
    "Counter(labels)"
   ]
  },
  {
   "cell_type": "code",
   "execution_count": 22,
   "metadata": {},
   "outputs": [],
   "source": [
    "import numpy as np\n",
    "import pcl\n",
    "import open3d as o3d\n",
    "# plt\"\n",
    "import matplotlib.pyplot as plt\n"
   ]
  },
  {
   "cell_type": "code",
   "execution_count": 23,
   "metadata": {},
   "outputs": [],
   "source": [
    "bin_pcd = np.fromfile(\"/home/mnabail/repos/Cylinder3D_spconv_v2/car_only_points/000002.bin\", dtype=np.float32)\n",
    "points = bin_pcd.reshape((-1, 3))[:, 0:3]"
   ]
  },
  {
   "cell_type": "code",
   "execution_count": 24,
   "metadata": {},
   "outputs": [
    {
     "name": "stdout",
     "output_type": "stream",
     "text": [
      "(4581, 3)\n",
      "noise  51\n",
      "n cluster (8,)\n",
      "unique is [-1  0  1  2  3  4  5  6]\n",
      "n_iteration= 8\n"
     ]
    }
   ],
   "source": [
    "from sklearn.cluster import DBSCAN\n",
    "import numpy as np\n",
    "# data = np.random.rand(500,3)\n",
    "data=points\n",
    "db = DBSCAN(eps=1 ,min_samples=20).fit(data)\n",
    "labels = np.array(db.labels_)\n",
    "n_noise_ = list(labels).count(-1)\n",
    "\n",
    "print(data.shape)\n",
    "# print noise\n",
    "print(\"noise \",n_noise_)\n",
    "print(\"n cluster\",np.unique(labels).shape)\n",
    "n_iteration=np.unique(labels).shape[0]\n",
    "print('unique is', np.unique(labels))\n",
    "print('n_iteration=',n_iteration)\n"
   ]
  },
  {
   "cell_type": "code",
   "execution_count": 25,
   "metadata": {},
   "outputs": [
    {
     "name": "stdout",
     "output_type": "stream",
     "text": [
      "(4581, 4)\n",
      "(4581, 4)\n",
      "(4581, 4)\n",
      "(4581, 4)\n",
      "(4581, 4)\n",
      "(4581, 4)\n",
      "(4581, 4)\n"
     ]
    }
   ],
   "source": [
    "end=np.unique(labels)[-1]+1\n",
    "for i in range (0,end):\n",
    "    points_w_labels=np.concatenate((data,labels.reshape(-1,1)),axis=1)\n",
    "    print(points_w_labels.shape)\n",
    "    point_cloud = o3d.geometry.PointCloud()\n",
    "    point_cloud.points = o3d.utility.Vector3dVector(points_w_labels[labels==i,0:3])\n",
    "    o3d.visualization.draw_geometries([point_cloud])\n",
    "    # draw using o3d\n"
   ]
  },
  {
   "cell_type": "code",
   "execution_count": 21,
   "metadata": {},
   "outputs": [
    {
     "data": {
      "text/plain": [
       "7"
      ]
     },
     "execution_count": 21,
     "metadata": {},
     "output_type": "execute_result"
    }
   ],
   "source": [
    "np.unique(labels)[-1]+1"
   ]
  },
  {
   "cell_type": "code",
   "execution_count": 26,
   "metadata": {},
   "outputs": [
    {
     "data": {
      "text/plain": [
       "7"
      ]
     },
     "execution_count": 26,
     "metadata": {},
     "output_type": "execute_result"
    }
   ],
   "source": [
    "end"
   ]
  },
  {
   "cell_type": "code",
   "execution_count": 29,
   "metadata": {},
   "outputs": [
    {
     "data": {
      "text/plain": [
       "8"
      ]
     },
     "execution_count": 29,
     "metadata": {},
     "output_type": "execute_result"
    }
   ],
   "source": [
    "n_iteration"
   ]
  },
  {
   "cell_type": "code",
   "execution_count": null,
   "metadata": {},
   "outputs": [],
   "source": []
  }
 ],
 "metadata": {
  "kernelspec": {
   "display_name": "Python 3.8.10 64-bit",
   "language": "python",
   "name": "python3"
  },
  "language_info": {
   "codemirror_mode": {
    "name": "ipython",
    "version": 3
   },
   "file_extension": ".py",
   "mimetype": "text/x-python",
   "name": "python",
   "nbconvert_exporter": "python",
   "pygments_lexer": "ipython3",
   "version": "3.8.10"
  },
  "orig_nbformat": 4,
  "vscode": {
   "interpreter": {
    "hash": "916dbcbb3f70747c44a77c7bcd40155683ae19c65e1c03b4aa3499c5328201f1"
   }
  }
 },
 "nbformat": 4,
 "nbformat_minor": 2
}
