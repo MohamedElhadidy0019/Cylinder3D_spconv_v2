{
 "cells": [
  {
   "cell_type": "code",
   "execution_count": 1,
   "metadata": {},
   "outputs": [
    {
     "name": "stdout",
     "output_type": "stream",
     "text": [
      "Jupyter environment detected. Enabling Open3D WebVisualizer.\n",
      "[Open3D INFO] WebRTC GUI backend enabled.\n",
      "[Open3D INFO] WebRTCWindowSystem: HTTP handshake server disabled.\n"
     ]
    }
   ],
   "source": [
    "from cv2 import threshold\n",
    "import numpy as np\n",
    "import yaml\n",
    "import open3d\n",
    "from pathlib import Path\n",
    "import os\n",
    "import cv2\n",
    "import nthresh\n",
    "\n",
    "from matplotlib import pyplot as plt \n",
    "\n",
    "from config.config import load_config_data\n"
   ]
  },
  {
   "cell_type": "code",
   "execution_count": 2,
   "metadata": {},
   "outputs": [],
   "source": [
    "def array_histogram_equalization(arr, number_bins=256):\n",
    "    # from http://www.janeriksolem.net/histogram-equalization-with-python-and.html\n",
    "\n",
    "    # get image histogram\n",
    "    image_histogram, bins = np.histogram(arr, number_bins, density=True)\n",
    "    cdf = image_histogram.cumsum() # cumulative distribution function\n",
    "    cdf = (number_bins-1) * cdf / cdf[-1] # normalize\n",
    "\n",
    "    # use linear interpolation of cdf to find new pixel values\n",
    "    image_equalized = np.interp(arr, bins[:-1], cdf)\n",
    "\n",
    "    return image_equalized, cdf\n"
   ]
  },
  {
   "cell_type": "code",
   "execution_count": 3,
   "metadata": {},
   "outputs": [],
   "source": [
    "arr=[1,2,3,4,5,6,7,8,9]\n",
    "histogram, cumulative_distribution = array_histogram_equalization(arr, number_bins=10)\n",
    "\n"
   ]
  },
  {
   "cell_type": "code",
   "execution_count": 4,
   "metadata": {},
   "outputs": [
    {
     "data": {
      "text/plain": [
       "array([1.  , 2.25, 3.5 , 4.  , 5.  , 6.25, 7.5 , 8.75, 9.  ])"
      ]
     },
     "execution_count": 4,
     "metadata": {},
     "output_type": "execute_result"
    }
   ],
   "source": [
    "histogram"
   ]
  },
  {
   "cell_type": "code",
   "execution_count": 5,
   "metadata": {},
   "outputs": [],
   "source": [
    "\n",
    "\n",
    "def get_rgb_list(_label):\n",
    "\n",
    "    # c = color_dict[_label]\n",
    "    if(_label == False):\n",
    "        c = [0,0,0]\n",
    "    else:\n",
    "        c = [255,0,0]\n",
    "\n",
    "    return np.array((c[0], c[1], c[2]))\n",
    "\n",
    "\n",
    "def draw_pc(pc_xyzrgb):\n",
    "    pc = open3d.geometry.PointCloud()\n",
    "    pc.points = open3d.utility.Vector3dVector(pc_xyzrgb[:, 0:3])\n",
    "    pc.colors = open3d.utility.Vector3dVector(pc_xyzrgb[:, 3:6] / 255.)\n",
    "\n",
    "    def custom_draw_geometry_with_key_callback(pcd):\n",
    "        def change_background_to_black(vis):\n",
    "            opt = vis.get_render_option()\n",
    "            opt.background_color = np.asarray([0, 0, 0])\n",
    "            opt.point_size = 1\n",
    "            return False\n",
    "\n",
    "        key_to_callback = {}\n",
    "        key_to_callback[ord(\"K\")] = change_background_to_black\n",
    "        open3d.visualization.draw_geometries_with_key_callbacks([pcd], key_to_callback)\n",
    "\n",
    "    custom_draw_geometry_with_key_callback(pc)\n",
    "\n",
    "\n",
    "def concate_color(_points, _label):\n",
    "    color = np.zeros((_points.shape[0], 3))\n",
    "    label_id = np.unique(_label)\n",
    "    # print(label_id)\n",
    "    # print('---------------------------------------------')\n",
    "    pass\n",
    "    for cls in label_id:\n",
    "        if label_filter.__len__() == 0:\n",
    "            color[_label == cls] = get_rgb_list(cls)\n",
    "        elif label_filter.count(cls) == 0:\n",
    "            color[_label == cls] = get_rgb_list(cls) # kol el 7agat ely leha el label bta3 l unique label cls , ta5d el loon bta3ha\n",
    "    _points = np.concatenate([_points, color], axis=1)\n",
    "    return _points\n",
    "\n",
    "\n",
    "\n",
    "################################______MAIN______################################\n",
    "\n",
    "\n",
    "points_dir = Path('/home/mnabail/repos/Cylinder3D_spconv_v2_LANDMARKINGS/demo_lidar_input/') # path to .bin data\n",
    "label_dir = Path('/home/mnabail/repos/Cylinder3D_spconv_v2_LANDMARKINGS/demosave/') # path to .label data\n",
    "# points_dir = Path('/home/mnabail/repos/Cylinder3D_spconv_v2/inference_cluster/lidar_pc_val/') # path to .label data\n",
    "# label_dir = Path('/home/mnabail/repos/Cylinder3D_spconv_v2/inference_cluster/lidar_labels/') # path to .bin data\n",
    "\n",
    "label_filter = [40, 48, 70, 72]    # object's label which you wan't to show\n",
    "with open('/home/mnabail/repos/Cylinder3D_spconv_v2/config/label_mapping/nuscenes.yaml', 'r') as stream: # label_mapping configuration file\n",
    "    label_mapping = yaml.safe_load(stream)\n",
    "    color_dict = label_mapping['color_map']\n",
    "\n",
    "#print('----------------------------------------------------------------------------------')\n",
    "for it_scan, it_label in zip(sorted(points_dir.iterdir()), sorted(label_dir.iterdir())):\n",
    "    bin_name=str(it_scan).split('/')[-1]\n",
    "    label_name=str(it_label).split('/')[-1]\n",
    "    old_name=str(it_label)\n",
    "    new_name=str(label_dir)+'/'+bin_name[:-4]+'.label'\n",
    "    os.rename(old_name,new_name)\n",
    "    # print(\"bin name=\",bin_name, \"  label name=\",label_name)\n",
    "    # print('old name: ',old_name)\n",
    "    # print(\"new name=\",new_name)\n",
    "    # print('--------------------------------------------')\n",
    "\n",
    "# input(\"break now\")\n",
    "\n",
    "#list of 50 different rgb colors\n",
    "\n",
    "\n",
    "config_path='config/nuScenes.yaml'\n",
    "configs = load_config_data(config_path)\n",
    "dataset_config = configs['dataset_params']\n",
    "with open(dataset_config[\"label_mapping\"], 'r') as stream:\n",
    "    nuscenesyaml = yaml.safe_load(stream)\n",
    "labels_16 = nuscenesyaml['labels_16']\n",
    "\n",
    "\n",
    "\n",
    "dataset_config = configs['dataset_params']\n"
   ]
  },
  {
   "cell_type": "code",
   "execution_count": 9,
   "metadata": {},
   "outputs": [
    {
     "name": "stdout",
     "output_type": "stream",
     "text": [
      "BIN NAME= 000540\n",
      "mean= 0.060843777\n"
     ]
    },
    {
     "data": {
      "image/png": "[encoded data removed]",
      "text/plain": [
       "<Figure size 432x288 with 1 Axes>"
      ]
     },
     "metadata": {
      "needs_background": "light"
     },
     "output_type": "display_data"
    },
    {
     "name": "stdout",
     "output_type": "stream",
     "text": [
      "max= 0.43137255\n",
      "[[0.00000000e+00 4.20000000e+01]\n",
      " [3.92156886e-03 8.00000000e+01]\n",
      " [7.84313772e-03 1.31000000e+02]\n",
      " [1.17647061e-02 9.10000000e+01]\n",
      " [1.56862754e-02 2.41000000e+02]\n",
      " [1.96078438e-02 4.31000000e+02]\n",
      " [2.35294122e-02 5.63000000e+02]\n",
      " [2.74509806e-02 5.15000000e+02]\n",
      " [3.13725509e-02 9.42000000e+02]\n",
      " [3.52941193e-02 6.44000000e+02]\n",
      " [3.92156877e-02 4.26000000e+02]\n",
      " [4.31372561e-02 5.91000000e+02]\n",
      " [4.70588244e-02 4.09000000e+02]\n",
      " [5.09803928e-02 5.58000000e+02]\n",
      " [5.49019612e-02 3.21000000e+02]\n",
      " [5.88235296e-02 2.69000000e+02]\n",
      " [6.27451017e-02 1.74000000e+02]\n",
      " [6.66666701e-02 1.22000000e+02]\n",
      " [7.05882385e-02 2.00000000e+02]\n",
      " [7.45098069e-02 6.70000000e+01]\n",
      " [7.84313753e-02 1.02000000e+02]\n",
      " [8.23529437e-02 1.26000000e+02]\n",
      " [8.62745121e-02 6.60000000e+01]\n",
      " [9.01960805e-02 1.07000000e+02]\n",
      " [9.41176489e-02 4.60000000e+01]\n",
      " [9.80392173e-02 8.40000000e+01]\n",
      " [1.01960786e-01 6.50000000e+01]\n",
      " [1.05882354e-01 4.50000000e+01]\n",
      " [1.09803922e-01 5.60000000e+01]\n",
      " [1.13725491e-01 3.40000000e+01]\n",
      " [1.17647059e-01 5.30000000e+01]\n",
      " [1.21568628e-01 2.30000000e+01]\n",
      " [1.25490203e-01 1.90000000e+01]\n",
      " [1.29411772e-01 1.10000000e+01]\n",
      " [1.33333340e-01 1.90000000e+01]\n",
      " [1.37254909e-01 1.50000000e+01]\n",
      " [1.41176477e-01 1.60000000e+01]\n",
      " [1.45098045e-01 1.30000000e+01]\n",
      " [1.49019614e-01 9.00000000e+00]\n",
      " [1.52941182e-01 2.10000000e+01]\n",
      " [1.56862751e-01 6.00000000e+00]\n",
      " [1.60784319e-01 7.00000000e+00]\n",
      " [1.64705887e-01 1.50000000e+01]\n",
      " [1.68627456e-01 1.40000000e+01]\n",
      " [1.72549024e-01 1.00000000e+00]\n",
      " [1.76470593e-01 6.00000000e+00]\n",
      " [1.80392161e-01 3.00000000e+00]\n",
      " [1.84313729e-01 4.00000000e+00]\n",
      " [1.88235298e-01 4.00000000e+00]\n",
      " [1.92156866e-01 3.00000000e+00]\n",
      " [1.96078435e-01 9.00000000e+00]\n",
      " [2.00000003e-01 1.00000000e+00]\n",
      " [2.03921571e-01 4.00000000e+00]\n",
      " [2.07843140e-01 3.00000000e+00]\n",
      " [2.11764708e-01 7.00000000e+00]\n",
      " [2.15686277e-01 1.00000000e+00]\n",
      " [2.19607845e-01 8.00000000e+00]\n",
      " [2.23529413e-01 6.00000000e+00]\n",
      " [2.27450982e-01 9.00000000e+00]\n",
      " [2.31372550e-01 8.00000000e+00]\n",
      " [2.35294119e-01 6.00000000e+00]\n",
      " [2.39215687e-01 7.00000000e+00]\n",
      " [2.43137255e-01 7.00000000e+00]\n",
      " [2.47058824e-01 1.10000000e+01]\n",
      " [2.50980407e-01 5.00000000e+00]\n",
      " [2.54901975e-01 6.00000000e+00]\n",
      " [2.58823544e-01 3.00000000e+00]\n",
      " [2.62745112e-01 1.00000000e+01]\n",
      " [2.66666681e-01 4.00000000e+00]\n",
      " [2.70588249e-01 4.00000000e+00]\n",
      " [2.74509817e-01 9.00000000e+00]\n",
      " [2.78431386e-01 8.00000000e+00]\n",
      " [2.82352954e-01 6.00000000e+00]\n",
      " [2.86274523e-01 1.00000000e+00]\n",
      " [2.90196091e-01 1.00000000e+01]\n",
      " [2.94117659e-01 5.00000000e+00]\n",
      " [2.98039228e-01 9.00000000e+00]\n",
      " [3.01960796e-01 4.00000000e+00]\n",
      " [3.05882365e-01 2.00000000e+01]\n",
      " [3.09803933e-01 5.00000000e+00]\n",
      " [3.13725501e-01 1.70000000e+01]\n",
      " [3.17647070e-01 1.00000000e+01]\n",
      " [3.21568638e-01 7.00000000e+00]\n",
      " [3.25490206e-01 2.00000000e+00]\n",
      " [3.29411775e-01 6.00000000e+00]\n",
      " [3.37254912e-01 1.00000000e+01]\n",
      " [3.41176480e-01 5.00000000e+00]\n",
      " [3.45098048e-01 4.00000000e+00]\n",
      " [3.49019617e-01 9.00000000e+00]\n",
      " [3.52941185e-01 4.00000000e+00]\n",
      " [3.56862754e-01 2.00000000e+00]\n",
      " [3.60784322e-01 3.00000000e+00]\n",
      " [3.64705890e-01 8.00000000e+00]\n",
      " [3.68627459e-01 5.00000000e+00]\n",
      " [3.72549027e-01 1.00000000e+00]\n",
      " [3.76470596e-01 3.00000000e+00]\n",
      " [3.80392164e-01 3.00000000e+00]\n",
      " [3.84313732e-01 1.00000000e+00]\n",
      " [3.88235301e-01 1.00000000e+00]\n",
      " [3.92156869e-01 2.90000000e+01]\n",
      " [3.96078438e-01 8.00000000e+00]\n",
      " [4.00000006e-01 4.00000000e+00]\n",
      " [4.03921574e-01 1.40000000e+01]\n",
      " [4.07843143e-01 1.00000000e+01]\n",
      " [4.11764711e-01 6.00000000e+00]\n",
      " [4.15686280e-01 5.00000000e+00]\n",
      " [4.19607848e-01 9.00000000e+00]\n",
      " [4.23529416e-01 3.70000000e+01]\n",
      " [4.27450985e-01 1.00000000e+01]\n",
      " [4.31372553e-01 5.00000000e+00]]\n"
     ]
    }
   ],
   "source": [
    "\n",
    "for it in sorted(label_dir.iterdir()):\n",
    "    label_file = it\n",
    "    print(\"BIN NAME=\",str(it.stem))\n",
    "    points_file = points_dir / (str(it.stem) + '.bin')\n",
    "    labels = np.fromfile(label_file, dtype=np.uint32)\n",
    "    points = np.fromfile(points_file, dtype=np.float32).reshape((-1, 5))\n",
    "\n",
    "    # x, y, z, inetnsity, ring_index\n",
    "    points_full = np.fromfile(points_file, dtype=np.float32).reshape((-1, 5))[:, 0:5]\n",
    "\n",
    "\n",
    "\n",
    "    # for i in labels_16:\n",
    "    #     if(i!=11):\n",
    "    #         continue\n",
    "    i=11\n",
    "\n",
    "    points_to_threshold=points_full[labels==i]\n",
    "    points_to_threshold=np.array(points_to_threshold)\n",
    "\n",
    "    # points_to_threshold=points_to_threshold[  points_to_threshold[:,3]<0.1   ]\n",
    "\n",
    "    ground=points_to_threshold[:,3]\n",
    "    print('mean=',np.mean(ground))\n",
    "    normalised_hist,_=array_histogram_equalization(ground, number_bins=100)\n",
    "    \n",
    "    \n",
    "    _bins=np.arange(start=0.0, stop=1.0, step=0.001)\n",
    "    plt.hist(ground, bins =_bins) \n",
    "    plt.title(\"histogram\") \n",
    "    plt.savefig('histogram.png')\n",
    "    plt.savefig('histogram1.png')\n",
    "    plt.show()\n",
    "\n",
    "    unique, counts = np.unique(ground, return_counts=True)\n",
    "    print('max=',np.max(ground))\n",
    "    print(np.asarray((unique, counts)).T)\n",
    "    threshold = nthresh.nthresh(normalised_hist, n_classes=2, bins=10, n_jobs=1)\n",
    "\n",
    "\n",
    "    break\n",
    "\n"
   ]
  },
  {
   "cell_type": "code",
   "execution_count": 7,
   "metadata": {},
   "outputs": [
    {
     "data": {
      "text/plain": [
       "(74.27212073736753,)"
      ]
     },
     "execution_count": 7,
     "metadata": {},
     "output_type": "execute_result"
    }
   ],
   "source": [
    "threshold"
   ]
  },
  {
   "cell_type": "code",
   "execution_count": null,
   "metadata": {},
   "outputs": [],
   "source": []
  },
  {
   "cell_type": "code",
   "execution_count": 1,
   "metadata": {},
   "outputs": [
    {
     "name": "stdout",
     "output_type": "stream",
     "text": [
      "Jupyter environment detected. Enabling Open3D WebVisualizer.\n",
      "[Open3D INFO] WebRTC GUI backend enabled.\n",
      "[Open3D INFO] WebRTCWindowSystem: HTTP handshake server disabled.\n"
     ]
    }
   ],
   "source": [
    "import numpy as np\n",
    "import open3d as o3d\n"
   ]
  },
  {
   "cell_type": "code",
   "execution_count": 65,
   "metadata": {},
   "outputs": [],
   "source": [
    "\n",
    "points_file='/home/mnabail/repos/Cylinder3D_spconv_v2_LANDMARKINGS/four_to_five/waymo_points_converted.bin'"
   ]
  },
  {
   "cell_type": "code",
   "execution_count": 66,
   "metadata": {},
   "outputs": [],
   "source": [
    "points = np.fromfile(points_file, dtype=np.float32).reshape((-1, 5))\n"
   ]
  },
  {
   "cell_type": "code",
   "execution_count": 67,
   "metadata": {},
   "outputs": [
    {
     "data": {
      "text/plain": [
       "(184522, 5)"
      ]
     },
     "execution_count": 67,
     "metadata": {},
     "output_type": "execute_result"
    }
   ],
   "source": [
    "\n",
    "points.shape"
   ]
  },
  {
   "cell_type": "code",
   "execution_count": 68,
   "metadata": {},
   "outputs": [],
   "source": [
    "\n",
    "ply_point_cloud = o3d.data.PLYPointCloud()\n",
    "pcd = o3d.geometry.PointCloud()\n",
    "pcd.points = o3d.utility.Vector3dVector(points[:,:3])\n",
    "o3d.visualization.draw_geometries([pcd])\n"
   ]
  },
  {
   "cell_type": "code",
   "execution_count": 15,
   "metadata": {},
   "outputs": [],
   "source": []
  },
  {
   "cell_type": "code",
   "execution_count": 28,
   "metadata": {},
   "outputs": [],
   "source": []
  },
  {
   "cell_type": "code",
   "execution_count": 56,
   "metadata": {},
   "outputs": [],
   "source": [
    "arr= np.array([[1, 2, 3], [4, 5, 6], [7, 8, 9]])\n"
   ]
  },
  {
   "cell_type": "code",
   "execution_count": 57,
   "metadata": {},
   "outputs": [
    {
     "data": {
      "text/plain": [
       "(3, 3)"
      ]
     },
     "execution_count": 57,
     "metadata": {},
     "output_type": "execute_result"
    }
   ],
   "source": [
    "arr.shape\n"
   ]
  },
  {
   "cell_type": "code",
   "execution_count": 58,
   "metadata": {},
   "outputs": [],
   "source": [
    "arr=arr.flatten()\n"
   ]
  },
  {
   "cell_type": "code",
   "execution_count": 59,
   "metadata": {},
   "outputs": [
    {
     "data": {
      "text/plain": [
       "array([1, 2, 3, 4, 5, 6, 7, 8, 9])"
      ]
     },
     "execution_count": 59,
     "metadata": {},
     "output_type": "execute_result"
    }
   ],
   "source": [
    "arr"
   ]
  },
  {
   "cell_type": "code",
   "execution_count": 60,
   "metadata": {},
   "outputs": [],
   "source": [
    "from numpy import dtype\n",
    "\n",
    "\n",
    "arr.astype(np.int32).tofile('test.bin')"
   ]
  },
  {
   "cell_type": "code",
   "execution_count": 63,
   "metadata": {},
   "outputs": [],
   "source": [
    "arr_2 = np.fromfile('test.bin', dtype=np.int32).reshape((-1, 3))"
   ]
  },
  {
   "cell_type": "code",
   "execution_count": 64,
   "metadata": {},
   "outputs": [
    {
     "data": {
      "text/plain": [
       "array([[1, 2, 3],\n",
       "       [4, 5, 6],\n",
       "       [7, 8, 9]], dtype=int32)"
      ]
     },
     "execution_count": 64,
     "metadata": {},
     "output_type": "execute_result"
    }
   ],
   "source": [
    "arr_2"
   ]
  },
  {
   "cell_type": "code",
   "execution_count": 6,
   "metadata": {},
   "outputs": [],
   "source": []
  },
  {
   "cell_type": "code",
   "execution_count": 7,
   "metadata": {},
   "outputs": [
    {
     "data": {
      "text/plain": [
       "array([1, 3, 5, 7, 9])"
      ]
     },
     "execution_count": 7,
     "metadata": {},
     "output_type": "execute_result"
    }
   ],
   "source": []
  },
  {
   "cell_type": "code",
   "execution_count": 11,
   "metadata": {},
   "outputs": [
    {
     "data": {
      "text/plain": [
       "array([ 2,  4,  6,  8, 10])"
      ]
     },
     "execution_count": 11,
     "metadata": {},
     "output_type": "execute_result"
    }
   ],
   "source": []
  },
  {
   "cell_type": "code",
   "execution_count": null,
   "metadata": {},
   "outputs": [],
   "source": []
  }
 ],
 "metadata": {
  "kernelspec": {
   "display_name": "Python 3.9.12 ('cylinderical_threeD')",
   "language": "python",
   "name": "python3"
  },
  "language_info": {
   "codemirror_mode": {
    "name": "ipython",
    "version": 3
   },
   "file_extension": ".py",
   "mimetype": "text/x-python",
   "name": "python",
   "nbconvert_exporter": "python",
   "pygments_lexer": "ipython3",
   "version": "3.9.12"
  },
  "orig_nbformat": 4,
  "vscode": {
   "interpreter": {
    "hash": "4e12faa1dd2d9df8ace0bf27143361f5c6bc1ea507565dd12e41480ade57ad4f"
   }
  }
 },
 "nbformat": 4,
 "nbformat_minor": 2
}
