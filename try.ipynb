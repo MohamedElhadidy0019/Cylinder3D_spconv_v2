{
 "cells": [
  {
   "cell_type": "code",
   "execution_count": 1,
   "metadata": {},
   "outputs": [
    {
     "name": "stdout",
     "output_type": "stream",
     "text": [
      "Jupyter environment detected. Enabling Open3D WebVisualizer.\n",
      "[Open3D INFO] WebRTC GUI backend enabled.\n",
      "[Open3D INFO] WebRTCWindowSystem: HTTP handshake server disabled.\n"
     ]
    }
   ],
   "source": [
    "import numpy as np\n",
    "import yaml\n",
    "import open3d\n",
    "from pathlib import Path\n",
    "import os\n"
   ]
  },
  {
   "cell_type": "code",
   "execution_count": 2,
   "metadata": {},
   "outputs": [],
   "source": [
    "\n",
    "points_dir = Path('/home/mnabail/repos/Cylinder3D_spconv_v2/demo_lidar_input/') # path to .bin data\n",
    "label_dir = Path('/home/mnabail/repos/Cylinder3D_spconv_v2/demosave/') # path to .label data\n"
   ]
  },
  {
   "cell_type": "code",
   "execution_count": 7,
   "metadata": {},
   "outputs": [
    {
     "name": "stdout",
     "output_type": "stream",
     "text": [
      "BIN NAME= 0\n",
      "(34688,)\n",
      "0\n"
     ]
    }
   ],
   "source": []
  },
  {
   "cell_type": "code",
   "execution_count": 14,
   "metadata": {},
   "outputs": [],
   "source": [
    "import numpy as np\n",
    "import yaml\n",
    "import open3d\n",
    "from pathlib import Path\n",
    "import os\n",
    "\n",
    "\n",
    "colors = [[255, 0, 0], [0, 255, 0], [0, 0, 255], [255, 255, 0], [255, 0, 255], [0, 255, 255], [255, 255, 255], [0, 0, 0], [128, 0, 0], [0, 128, 0], [0, 0, 128], [128, 128, 0], [128, 0, 128], [0, 128, 128], [128, 128, 128], [64, 0, 0], [0, 64, 0], [0, 0, 64], [64, 64, 0], [64, 0, 64], [0, 64, 64], [64, 64, 64], [192, 0, 0], [0, 192, 0], [0, 0, 192], [192, 192, 0], [192, 0, 192], [0, 192, 192], [192, 192, 192], [32, 0, 0], [0, 32, 0], [0, 0, 32], [32, 32, 0], [32, 0, 32], [0, 32, 32], [32, 32, 32], [160, 0, 0], [0, 160, 0], [0, 0, 160], [160, 160, 0], [160, 0, 160], [0, 160, 160], [160, 160, 160], [96, 0, 0], [0, 96, 0], [0, 0, 96], [96, 96, 0], [96, 0, 96], [0, 96, 96], [96, 96, 96], [224, 0, 0], [0, 224, 0], [0, 0, 224], [224, 224, 0], [224, 0, 224]]\n",
    "\n",
    "\n",
    "def get_rgb_list(_label):\n",
    "    try:\n",
    "        c = color_dict[_label]\n",
    "    except:\n",
    "        c=[0,0,0]\n",
    "\n",
    "    return np.array((c[0], c[1], c[2]))\n",
    "\n",
    "\n",
    "def draw_pc(pc_xyzrgb):\n",
    "    pc = open3d.geometry.PointCloud()\n",
    "    pc.points = open3d.utility.Vector3dVector(pc_xyzrgb[:, 0:3])\n",
    "    pc.colors = open3d.utility.Vector3dVector(pc_xyzrgb[:, 3:6] / 255.)\n",
    "\n",
    "    def custom_draw_geometry_with_key_callback(pcd):\n",
    "        def change_background_to_black(vis):\n",
    "            opt = vis.get_render_option()\n",
    "            opt.background_color = np.asarray([0, 0, 0])\n",
    "            opt.point_size = 1\n",
    "            return False\n",
    "\n",
    "        key_to_callback = {}\n",
    "        key_to_callback[ord(\"K\")] = change_background_to_black\n",
    "        open3d.visualization.draw_geometries_with_key_callbacks([pcd], key_to_callback)\n",
    "\n",
    "    custom_draw_geometry_with_key_callback(pc)\n",
    "\n",
    "\n",
    "\n",
    "\n",
    "################################______MAIN______################################\n",
    "\n",
    "\n",
    "points_dir = Path('/home/mnabail/repos/Cylinder3D_spconv_v2/demo_lidar_input/') # path to .bin data\n",
    "label_dir = Path('/home/mnabail/repos/Cylinder3D_spconv_v2/demosave/') # path to .label data\n",
    "# points_dir = Path('/home/mnabail/repos/Cylinder3D_spconv_v2/inference_cluster/lidar_pc_val/') # path to .label data\n",
    "# label_dir = Path('/home/mnabail/repos/Cylinder3D_spconv_v2/inference_cluster/lidar_labels/') # path to .bin data\n",
    "\n",
    "label_filter = [40, 48, 70, 72]    # object's label which you wan't to show\n",
    "with open('/home/mnabail/repos/Cylinder3D_spconv_v2/config/label_mapping/nuscenes.yaml', 'r') as stream: # label_mapping configuration file\n",
    "    label_mapping = yaml.safe_load(stream)\n",
    "    color_dict = label_mapping['color_map']\n"
   ]
  },
  {
   "cell_type": "code",
   "execution_count": 20,
   "metadata": {},
   "outputs": [
    {
     "name": "stdout",
     "output_type": "stream",
     "text": [
      "------------------\n",
      "[[    0 14863]\n",
      " [    2  1132]\n",
      " [    3 15218]\n",
      " [    7  3454]\n",
      " [    8    21]]\n",
      "------------------\n",
      "points shape= (34688, 3)\n",
      "label shape= (34688,)\n",
      "label_id shape (5,)\n",
      "points shape= (34688, 6)\n"
     ]
    }
   ],
   "source": [
    "\n",
    "def concate_color(_points, _label):\n",
    "    color = np.zeros((_points.shape[0], 3))\n",
    "    label_id = np.unique(_label)\n",
    "    print('label_id shape', label_id.shape)\n",
    "    # no of labels equal 4\n",
    "    \n",
    "    for cls in label_id:\n",
    "        if label_filter.__len__() == 0:\n",
    "            color[_label == cls] = get_rgb_list(cls)\n",
    "        elif label_filter.count(cls) == 0:\n",
    "            color[_label == cls] = get_rgb_list(cls)\n",
    "    _points = np.concatenate([_points, color], axis=1)\n",
    "    return _points\n",
    "\n",
    "#list of 50 different rgb colors\n",
    "\n",
    "for it in sorted(label_dir.iterdir()):\n",
    "    label_file = it\n",
    "    #print(\"BIN NAME=\",str(it.stem))\n",
    "    points_file = points_dir / (str(it.stem) + '.bin')\n",
    "    label = np.fromfile(label_file, dtype=np.uint32)\n",
    "    points = np.fromfile(points_file, dtype=np.float32).reshape((-1, 5))[:, 0:3]\n",
    "    unique, counts = np.unique(label, return_counts=True)\n",
    "    print(\"------------------\")\n",
    "    print(np.asarray((unique, counts)).T)\n",
    "    print(\"------------------\")\n",
    "\n",
    "    # print points shape\n",
    "    print(\"points shape=\",points.shape)\n",
    "    print(\"label shape=\",label.shape)\n",
    "    colorful_points = concate_color(points, label)\n",
    "    print(\"points shape=\",colorful_points.shape)\n",
    "\n",
    "    #print(colorful_points[90:100])\n",
    "    break"
   ]
  },
  {
   "cell_type": "code",
   "execution_count": 21,
   "metadata": {},
   "outputs": [
    {
     "name": "stdout",
     "output_type": "stream",
     "text": [
      "kak\n"
     ]
    }
   ],
   "source": [
    "print('kak')"
   ]
  },
  {
   "cell_type": "code",
   "execution_count": 24,
   "metadata": {},
   "outputs": [],
   "source": [
    "arr=[1,2,3]\n",
    "if (arr==1):\n",
    "    print('true')"
   ]
  },
  {
   "cell_type": "code",
   "execution_count": null,
   "metadata": {},
   "outputs": [],
   "source": []
  }
 ],
 "metadata": {
  "kernelspec": {
   "display_name": "Python 3.9.12 ('cylinderical_threeD')",
   "language": "python",
   "name": "python3"
  },
  "language_info": {
   "codemirror_mode": {
    "name": "ipython",
    "version": 3
   },
   "file_extension": ".py",
   "mimetype": "text/x-python",
   "name": "python",
   "nbconvert_exporter": "python",
   "pygments_lexer": "ipython3",
   "version": "3.8.17"
  },
  "orig_nbformat": 4,
  "vscode": {
   "interpreter": {
    "hash": "4e12faa1dd2d9df8ace0bf27143361f5c6bc1ea507565dd12e41480ade57ad4f"
   }
  }
 },
 "nbformat": 4,
 "nbformat_minor": 2
}
